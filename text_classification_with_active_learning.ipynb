{
  "metadata": {
    "kernelspec": {
      "display_name": "Python 3",
      "name": "python3"
    },
    "language_info": {
      "name": "python",
      "version": "3.10.13",
      "mimetype": "text/x-python",
      "codemirror_mode": {
        "name": "ipython",
        "version": 3
      },
      "pygments_lexer": "ipython3",
      "nbconvert_exporter": "python",
      "file_extension": ".py"
    },
    "kaggle": {
      "accelerator": "nvidiaTeslaT4",
      "dataSources": [
        {
          "sourceId": 1085454,
          "sourceType": "datasetVersion",
          "datasetId": 605165
        }
      ],
      "dockerImageVersionId": 30699,
      "isInternetEnabled": true,
      "language": "python",
      "sourceType": "notebook",
      "isGpuEnabled": true
    },
    "colab": {
      "provenance": [],
      "gpuType": "T4",
      "include_colab_link": true
    },
    "accelerator": "GPU"
  },
  "nbformat_minor": 0,
  "nbformat": 4,
  "cells": [
    {
      "cell_type": "markdown",
      "metadata": {
        "id": "view-in-github",
        "colab_type": "text"
      },
      "source": [
        "<a href=\"https://colab.research.google.com/github/Mohamed2bdelaziz/Active-Learning/blob/main/text_classification_with_active_learning.ipynb\" target=\"_parent\"><img src=\"https://colab.research.google.com/assets/colab-badge.svg\" alt=\"Open In Colab\"/></a>"
      ]
    },
    {
      "cell_type": "code",
      "source": [
        "%%capture\n",
        "! pip install git+https://github.com/modAL-python/modAL.git\n",
        "! pip install scikeras\n"
      ],
      "metadata": {
        "id": "Wtq8AHLbxfxl"
      },
      "execution_count": 1,
      "outputs": []
    },
    {
      "cell_type": "code",
      "source": [
        "import numpy as np\n",
        "import pandas as pd\n",
        "import os\n",
        "\n",
        "import matplotlib.pyplot as plt\n",
        "import seaborn as sns\n",
        "\n",
        "from tqdm import tqdm\n",
        "from sklearn.preprocessing import OneHotEncoder\n",
        "\n",
        "import keras\n",
        "from sklearn.model_selection import train_test_split\n",
        "import tensorflow\n",
        "from tensorflow.keras.metrics import F1Score\n",
        "from keras.layers import Embedding\n",
        "from sklearn.metrics import f1_score, accuracy_score, confusion_matrix\n",
        "from tensorflow.keras.models import Sequential, Model\n",
        "from keras.layers import Dense, Flatten, Conv1D, MaxPooling1D, Dropout, BatchNormalization, ReLU, GlobalMaxPooling1D, Concatenate\n",
        "from keras.callbacks import EarlyStopping\n",
        "\n",
        "from scikeras.wrappers import KerasClassifier\n",
        "from modAL.models import ActiveLearner\n",
        "from modAL.uncertainty import uncertainty_sampling, margin_sampling, entropy_sampling\n",
        "import warnings\n",
        "warnings.filterwarnings(\"ignore\", category=DeprecationWarning)"
      ],
      "metadata": {
        "_uuid": "8f2839f25d086af736a60e9eeb907d3b93b6e0e5",
        "_cell_guid": "b1076dfc-b9ad-4769-8c92-a6c4dae69d19",
        "execution": {
          "iopub.status.busy": "2024-04-29T16:31:36.690587Z",
          "iopub.execute_input": "2024-04-29T16:31:36.690979Z",
          "iopub.status.idle": "2024-04-29T16:31:36.698317Z",
          "shell.execute_reply.started": "2024-04-29T16:31:36.690950Z",
          "shell.execute_reply": "2024-04-29T16:31:36.697286Z"
        },
        "trusted": true,
        "id": "xwVK6VN3vii4"
      },
      "execution_count": 2,
      "outputs": []
    },
    {
      "cell_type": "code",
      "source": [
        "! kaggle datasets download -d praveengovi/emotions-dataset-for-nlp\n",
        "! unzip emotions-dataset-for-nlp.zip -d /content/emotions-dataset-for-nlp"
      ],
      "metadata": {
        "colab": {
          "base_uri": "https://localhost:8080/"
        },
        "id": "UyM0yrMavtU5",
        "outputId": "d0778395-1926-4854-d700-ac675fad34f5"
      },
      "execution_count": 3,
      "outputs": [
        {
          "output_type": "stream",
          "name": "stdout",
          "text": [
            "Dataset URL: https://www.kaggle.com/datasets/praveengovi/emotions-dataset-for-nlp\n",
            "License(s): CC-BY-SA-4.0\n",
            "Downloading emotions-dataset-for-nlp.zip to /content\n",
            "  0% 0.00/721k [00:00<?, ?B/s]\n",
            "100% 721k/721k [00:00<00:00, 73.6MB/s]\n",
            "Archive:  emotions-dataset-for-nlp.zip\n",
            "  inflating: /content/emotions-dataset-for-nlp/test.txt  \n",
            "  inflating: /content/emotions-dataset-for-nlp/train.txt  \n",
            "  inflating: /content/emotions-dataset-for-nlp/val.txt  \n"
          ]
        }
      ]
    },
    {
      "cell_type": "code",
      "source": [
        "# download the pretrained glove models embeddings\n",
        "!wget https://downloads.cs.stanford.edu/nlp/data/glove.6B.zip\n",
        "!unzip -q glove.6B.zip"
      ],
      "metadata": {
        "execution": {
          "iopub.status.busy": "2024-04-29T16:31:36.717881Z",
          "iopub.execute_input": "2024-04-29T16:31:36.718259Z",
          "iopub.status.idle": "2024-04-29T16:34:39.021817Z",
          "shell.execute_reply.started": "2024-04-29T16:31:36.718232Z",
          "shell.execute_reply": "2024-04-29T16:34:39.020491Z"
        },
        "trusted": true,
        "colab": {
          "base_uri": "https://localhost:8080/"
        },
        "id": "Ua6JCWrMvii9",
        "outputId": "112d899e-0cc5-4c59-f651-a8c0422b024f"
      },
      "execution_count": 4,
      "outputs": [
        {
          "output_type": "stream",
          "name": "stdout",
          "text": [
            "--2024-05-01 21:16:35--  https://downloads.cs.stanford.edu/nlp/data/glove.6B.zip\n",
            "Resolving downloads.cs.stanford.edu (downloads.cs.stanford.edu)... 171.64.64.22\n",
            "Connecting to downloads.cs.stanford.edu (downloads.cs.stanford.edu)|171.64.64.22|:443... connected.\n",
            "HTTP request sent, awaiting response... 200 OK\n",
            "Length: 862182613 (822M) [application/zip]\n",
            "Saving to: ‘glove.6B.zip’\n",
            "\n",
            "glove.6B.zip        100%[===================>] 822.24M  5.01MB/s    in 2m 38s  \n",
            "\n",
            "2024-05-01 21:19:14 (5.19 MB/s) - ‘glove.6B.zip’ saved [862182613/862182613]\n",
            "\n"
          ]
        }
      ]
    },
    {
      "cell_type": "code",
      "source": [
        "data_path = os.path.join('/content/emotions-dataset-for-nlp')\n",
        "os.listdir(data_path)"
      ],
      "metadata": {
        "execution": {
          "iopub.status.busy": "2024-04-29T16:34:39.024409Z",
          "iopub.execute_input": "2024-04-29T16:34:39.025270Z",
          "iopub.status.idle": "2024-04-29T16:34:39.038081Z",
          "shell.execute_reply.started": "2024-04-29T16:34:39.025228Z",
          "shell.execute_reply": "2024-04-29T16:34:39.037015Z"
        },
        "trusted": true,
        "colab": {
          "base_uri": "https://localhost:8080/"
        },
        "id": "HBBTXlRpvii-",
        "outputId": "4b539fc5-1195-43b1-d9b0-9470bdbef4a6"
      },
      "execution_count": 5,
      "outputs": [
        {
          "output_type": "execute_result",
          "data": {
            "text/plain": [
              "['test.txt', 'train.txt', 'val.txt']"
            ]
          },
          "metadata": {},
          "execution_count": 5
        }
      ]
    },
    {
      "cell_type": "code",
      "source": [
        "def load_data(\n",
        "    data_path = data_path\n",
        "):\n",
        "    data = dict()\n",
        "    for file in os.listdir(data_path):\n",
        "        name = file.split('.')[0]\n",
        "        data[name] = list()\n",
        "        with open(os.path.join(data_path, file), \"r\") as f:\n",
        "            print('Loading {} Data ..'.format(name))\n",
        "            for line in tqdm(f):\n",
        "                text, label = line.split(';')\n",
        "                data[name].append({\n",
        "                    'text' : text.strip(),\n",
        "                    'label' : label.strip()\n",
        "                })\n",
        "\n",
        "    return data\n"
      ],
      "metadata": {
        "execution": {
          "iopub.status.busy": "2024-04-29T16:34:39.039291Z",
          "iopub.execute_input": "2024-04-29T16:34:39.039619Z",
          "iopub.status.idle": "2024-04-29T16:34:39.047833Z",
          "shell.execute_reply.started": "2024-04-29T16:34:39.039595Z",
          "shell.execute_reply": "2024-04-29T16:34:39.046935Z"
        },
        "trusted": true,
        "id": "KeI3oXm1vii-"
      },
      "execution_count": 6,
      "outputs": []
    },
    {
      "cell_type": "code",
      "source": [
        "data = load_data()"
      ],
      "metadata": {
        "execution": {
          "iopub.status.busy": "2024-04-29T16:34:39.050446Z",
          "iopub.execute_input": "2024-04-29T16:34:39.051126Z",
          "iopub.status.idle": "2024-04-29T16:34:39.141147Z",
          "shell.execute_reply.started": "2024-04-29T16:34:39.051094Z",
          "shell.execute_reply": "2024-04-29T16:34:39.140269Z"
        },
        "trusted": true,
        "colab": {
          "base_uri": "https://localhost:8080/"
        },
        "id": "np3ZR5J9vii_",
        "outputId": "dbd3c3f4-488a-4493-899b-d5836e8c6eee"
      },
      "execution_count": 7,
      "outputs": [
        {
          "output_type": "stream",
          "name": "stdout",
          "text": [
            "Loading test Data ..\n"
          ]
        },
        {
          "output_type": "stream",
          "name": "stderr",
          "text": [
            "2000it [00:00, 369168.16it/s]\n"
          ]
        },
        {
          "output_type": "stream",
          "name": "stdout",
          "text": [
            "Loading train Data ..\n"
          ]
        },
        {
          "output_type": "stream",
          "name": "stderr",
          "text": [
            "16000it [00:00, 353308.68it/s]\n"
          ]
        },
        {
          "output_type": "stream",
          "name": "stdout",
          "text": [
            "Loading val Data ..\n"
          ]
        },
        {
          "output_type": "stream",
          "name": "stderr",
          "text": [
            "2000it [00:00, 290927.65it/s]\n"
          ]
        }
      ]
    },
    {
      "cell_type": "code",
      "source": [
        "train_df = pd.DataFrame(\n",
        "    data['train']\n",
        ")\n",
        "\n",
        "train_df.head()"
      ],
      "metadata": {
        "execution": {
          "iopub.status.busy": "2024-04-29T16:34:39.142458Z",
          "iopub.execute_input": "2024-04-29T16:34:39.142744Z",
          "iopub.status.idle": "2024-04-29T16:34:39.178652Z",
          "shell.execute_reply.started": "2024-04-29T16:34:39.142720Z",
          "shell.execute_reply": "2024-04-29T16:34:39.177735Z"
        },
        "trusted": true,
        "colab": {
          "base_uri": "https://localhost:8080/",
          "height": 206
        },
        "id": "F6GGmxFevii_",
        "outputId": "9d338335-eff7-4580-e91b-7f82fb4f948a"
      },
      "execution_count": 8,
      "outputs": [
        {
          "output_type": "execute_result",
          "data": {
            "text/plain": [
              "                                                text    label\n",
              "0                            i didnt feel humiliated  sadness\n",
              "1  i can go from feeling so hopeless to so damned...  sadness\n",
              "2   im grabbing a minute to post i feel greedy wrong    anger\n",
              "3  i am ever feeling nostalgic about the fireplac...     love\n",
              "4                               i am feeling grouchy    anger"
            ],
            "text/html": [
              "\n",
              "  <div id=\"df-eeb226f5-9a91-490d-8470-cd571784f051\" class=\"colab-df-container\">\n",
              "    <div>\n",
              "<style scoped>\n",
              "    .dataframe tbody tr th:only-of-type {\n",
              "        vertical-align: middle;\n",
              "    }\n",
              "\n",
              "    .dataframe tbody tr th {\n",
              "        vertical-align: top;\n",
              "    }\n",
              "\n",
              "    .dataframe thead th {\n",
              "        text-align: right;\n",
              "    }\n",
              "</style>\n",
              "<table border=\"1\" class=\"dataframe\">\n",
              "  <thead>\n",
              "    <tr style=\"text-align: right;\">\n",
              "      <th></th>\n",
              "      <th>text</th>\n",
              "      <th>label</th>\n",
              "    </tr>\n",
              "  </thead>\n",
              "  <tbody>\n",
              "    <tr>\n",
              "      <th>0</th>\n",
              "      <td>i didnt feel humiliated</td>\n",
              "      <td>sadness</td>\n",
              "    </tr>\n",
              "    <tr>\n",
              "      <th>1</th>\n",
              "      <td>i can go from feeling so hopeless to so damned...</td>\n",
              "      <td>sadness</td>\n",
              "    </tr>\n",
              "    <tr>\n",
              "      <th>2</th>\n",
              "      <td>im grabbing a minute to post i feel greedy wrong</td>\n",
              "      <td>anger</td>\n",
              "    </tr>\n",
              "    <tr>\n",
              "      <th>3</th>\n",
              "      <td>i am ever feeling nostalgic about the fireplac...</td>\n",
              "      <td>love</td>\n",
              "    </tr>\n",
              "    <tr>\n",
              "      <th>4</th>\n",
              "      <td>i am feeling grouchy</td>\n",
              "      <td>anger</td>\n",
              "    </tr>\n",
              "  </tbody>\n",
              "</table>\n",
              "</div>\n",
              "    <div class=\"colab-df-buttons\">\n",
              "\n",
              "  <div class=\"colab-df-container\">\n",
              "    <button class=\"colab-df-convert\" onclick=\"convertToInteractive('df-eeb226f5-9a91-490d-8470-cd571784f051')\"\n",
              "            title=\"Convert this dataframe to an interactive table.\"\n",
              "            style=\"display:none;\">\n",
              "\n",
              "  <svg xmlns=\"http://www.w3.org/2000/svg\" height=\"24px\" viewBox=\"0 -960 960 960\">\n",
              "    <path d=\"M120-120v-720h720v720H120Zm60-500h600v-160H180v160Zm220 220h160v-160H400v160Zm0 220h160v-160H400v160ZM180-400h160v-160H180v160Zm440 0h160v-160H620v160ZM180-180h160v-160H180v160Zm440 0h160v-160H620v160Z\"/>\n",
              "  </svg>\n",
              "    </button>\n",
              "\n",
              "  <style>\n",
              "    .colab-df-container {\n",
              "      display:flex;\n",
              "      gap: 12px;\n",
              "    }\n",
              "\n",
              "    .colab-df-convert {\n",
              "      background-color: #E8F0FE;\n",
              "      border: none;\n",
              "      border-radius: 50%;\n",
              "      cursor: pointer;\n",
              "      display: none;\n",
              "      fill: #1967D2;\n",
              "      height: 32px;\n",
              "      padding: 0 0 0 0;\n",
              "      width: 32px;\n",
              "    }\n",
              "\n",
              "    .colab-df-convert:hover {\n",
              "      background-color: #E2EBFA;\n",
              "      box-shadow: 0px 1px 2px rgba(60, 64, 67, 0.3), 0px 1px 3px 1px rgba(60, 64, 67, 0.15);\n",
              "      fill: #174EA6;\n",
              "    }\n",
              "\n",
              "    .colab-df-buttons div {\n",
              "      margin-bottom: 4px;\n",
              "    }\n",
              "\n",
              "    [theme=dark] .colab-df-convert {\n",
              "      background-color: #3B4455;\n",
              "      fill: #D2E3FC;\n",
              "    }\n",
              "\n",
              "    [theme=dark] .colab-df-convert:hover {\n",
              "      background-color: #434B5C;\n",
              "      box-shadow: 0px 1px 3px 1px rgba(0, 0, 0, 0.15);\n",
              "      filter: drop-shadow(0px 1px 2px rgba(0, 0, 0, 0.3));\n",
              "      fill: #FFFFFF;\n",
              "    }\n",
              "  </style>\n",
              "\n",
              "    <script>\n",
              "      const buttonEl =\n",
              "        document.querySelector('#df-eeb226f5-9a91-490d-8470-cd571784f051 button.colab-df-convert');\n",
              "      buttonEl.style.display =\n",
              "        google.colab.kernel.accessAllowed ? 'block' : 'none';\n",
              "\n",
              "      async function convertToInteractive(key) {\n",
              "        const element = document.querySelector('#df-eeb226f5-9a91-490d-8470-cd571784f051');\n",
              "        const dataTable =\n",
              "          await google.colab.kernel.invokeFunction('convertToInteractive',\n",
              "                                                    [key], {});\n",
              "        if (!dataTable) return;\n",
              "\n",
              "        const docLinkHtml = 'Like what you see? Visit the ' +\n",
              "          '<a target=\"_blank\" href=https://colab.research.google.com/notebooks/data_table.ipynb>data table notebook</a>'\n",
              "          + ' to learn more about interactive tables.';\n",
              "        element.innerHTML = '';\n",
              "        dataTable['output_type'] = 'display_data';\n",
              "        await google.colab.output.renderOutput(dataTable, element);\n",
              "        const docLink = document.createElement('div');\n",
              "        docLink.innerHTML = docLinkHtml;\n",
              "        element.appendChild(docLink);\n",
              "      }\n",
              "    </script>\n",
              "  </div>\n",
              "\n",
              "\n",
              "<div id=\"df-af2eb58c-afd0-4070-97f6-2986859df92c\">\n",
              "  <button class=\"colab-df-quickchart\" onclick=\"quickchart('df-af2eb58c-afd0-4070-97f6-2986859df92c')\"\n",
              "            title=\"Suggest charts\"\n",
              "            style=\"display:none;\">\n",
              "\n",
              "<svg xmlns=\"http://www.w3.org/2000/svg\" height=\"24px\"viewBox=\"0 0 24 24\"\n",
              "     width=\"24px\">\n",
              "    <g>\n",
              "        <path d=\"M19 3H5c-1.1 0-2 .9-2 2v14c0 1.1.9 2 2 2h14c1.1 0 2-.9 2-2V5c0-1.1-.9-2-2-2zM9 17H7v-7h2v7zm4 0h-2V7h2v10zm4 0h-2v-4h2v4z\"/>\n",
              "    </g>\n",
              "</svg>\n",
              "  </button>\n",
              "\n",
              "<style>\n",
              "  .colab-df-quickchart {\n",
              "      --bg-color: #E8F0FE;\n",
              "      --fill-color: #1967D2;\n",
              "      --hover-bg-color: #E2EBFA;\n",
              "      --hover-fill-color: #174EA6;\n",
              "      --disabled-fill-color: #AAA;\n",
              "      --disabled-bg-color: #DDD;\n",
              "  }\n",
              "\n",
              "  [theme=dark] .colab-df-quickchart {\n",
              "      --bg-color: #3B4455;\n",
              "      --fill-color: #D2E3FC;\n",
              "      --hover-bg-color: #434B5C;\n",
              "      --hover-fill-color: #FFFFFF;\n",
              "      --disabled-bg-color: #3B4455;\n",
              "      --disabled-fill-color: #666;\n",
              "  }\n",
              "\n",
              "  .colab-df-quickchart {\n",
              "    background-color: var(--bg-color);\n",
              "    border: none;\n",
              "    border-radius: 50%;\n",
              "    cursor: pointer;\n",
              "    display: none;\n",
              "    fill: var(--fill-color);\n",
              "    height: 32px;\n",
              "    padding: 0;\n",
              "    width: 32px;\n",
              "  }\n",
              "\n",
              "  .colab-df-quickchart:hover {\n",
              "    background-color: var(--hover-bg-color);\n",
              "    box-shadow: 0 1px 2px rgba(60, 64, 67, 0.3), 0 1px 3px 1px rgba(60, 64, 67, 0.15);\n",
              "    fill: var(--button-hover-fill-color);\n",
              "  }\n",
              "\n",
              "  .colab-df-quickchart-complete:disabled,\n",
              "  .colab-df-quickchart-complete:disabled:hover {\n",
              "    background-color: var(--disabled-bg-color);\n",
              "    fill: var(--disabled-fill-color);\n",
              "    box-shadow: none;\n",
              "  }\n",
              "\n",
              "  .colab-df-spinner {\n",
              "    border: 2px solid var(--fill-color);\n",
              "    border-color: transparent;\n",
              "    border-bottom-color: var(--fill-color);\n",
              "    animation:\n",
              "      spin 1s steps(1) infinite;\n",
              "  }\n",
              "\n",
              "  @keyframes spin {\n",
              "    0% {\n",
              "      border-color: transparent;\n",
              "      border-bottom-color: var(--fill-color);\n",
              "      border-left-color: var(--fill-color);\n",
              "    }\n",
              "    20% {\n",
              "      border-color: transparent;\n",
              "      border-left-color: var(--fill-color);\n",
              "      border-top-color: var(--fill-color);\n",
              "    }\n",
              "    30% {\n",
              "      border-color: transparent;\n",
              "      border-left-color: var(--fill-color);\n",
              "      border-top-color: var(--fill-color);\n",
              "      border-right-color: var(--fill-color);\n",
              "    }\n",
              "    40% {\n",
              "      border-color: transparent;\n",
              "      border-right-color: var(--fill-color);\n",
              "      border-top-color: var(--fill-color);\n",
              "    }\n",
              "    60% {\n",
              "      border-color: transparent;\n",
              "      border-right-color: var(--fill-color);\n",
              "    }\n",
              "    80% {\n",
              "      border-color: transparent;\n",
              "      border-right-color: var(--fill-color);\n",
              "      border-bottom-color: var(--fill-color);\n",
              "    }\n",
              "    90% {\n",
              "      border-color: transparent;\n",
              "      border-bottom-color: var(--fill-color);\n",
              "    }\n",
              "  }\n",
              "</style>\n",
              "\n",
              "  <script>\n",
              "    async function quickchart(key) {\n",
              "      const quickchartButtonEl =\n",
              "        document.querySelector('#' + key + ' button');\n",
              "      quickchartButtonEl.disabled = true;  // To prevent multiple clicks.\n",
              "      quickchartButtonEl.classList.add('colab-df-spinner');\n",
              "      try {\n",
              "        const charts = await google.colab.kernel.invokeFunction(\n",
              "            'suggestCharts', [key], {});\n",
              "      } catch (error) {\n",
              "        console.error('Error during call to suggestCharts:', error);\n",
              "      }\n",
              "      quickchartButtonEl.classList.remove('colab-df-spinner');\n",
              "      quickchartButtonEl.classList.add('colab-df-quickchart-complete');\n",
              "    }\n",
              "    (() => {\n",
              "      let quickchartButtonEl =\n",
              "        document.querySelector('#df-af2eb58c-afd0-4070-97f6-2986859df92c button');\n",
              "      quickchartButtonEl.style.display =\n",
              "        google.colab.kernel.accessAllowed ? 'block' : 'none';\n",
              "    })();\n",
              "  </script>\n",
              "</div>\n",
              "\n",
              "    </div>\n",
              "  </div>\n"
            ],
            "application/vnd.google.colaboratory.intrinsic+json": {
              "type": "dataframe",
              "variable_name": "train_df",
              "summary": "{\n  \"name\": \"train_df\",\n  \"rows\": 16000,\n  \"fields\": [\n    {\n      \"column\": \"text\",\n      \"properties\": {\n        \"dtype\": \"string\",\n        \"num_unique_values\": 15969,\n        \"samples\": [\n          \"i feel rather imbicilic or at least complacent\",\n          \"i was in the bathroom i had sat down to pee it was to make me feel submissive again per instructions\",\n          \"i am thrilled with the way my skin and hair feel if you are like me you are skeptical\"\n        ],\n        \"semantic_type\": \"\",\n        \"description\": \"\"\n      }\n    },\n    {\n      \"column\": \"label\",\n      \"properties\": {\n        \"dtype\": \"category\",\n        \"num_unique_values\": 6,\n        \"samples\": [\n          \"sadness\",\n          \"anger\",\n          \"joy\"\n        ],\n        \"semantic_type\": \"\",\n        \"description\": \"\"\n      }\n    }\n  ]\n}"
            }
          },
          "metadata": {},
          "execution_count": 8
        }
      ]
    },
    {
      "cell_type": "code",
      "source": [
        "val_df = pd.DataFrame(\n",
        "    data['val']\n",
        ")\n",
        "test_df = pd.DataFrame(\n",
        "    data['test']\n",
        ")\n"
      ],
      "metadata": {
        "execution": {
          "iopub.status.busy": "2024-04-29T16:34:39.179899Z",
          "iopub.execute_input": "2024-04-29T16:34:39.180282Z",
          "iopub.status.idle": "2024-04-29T16:34:39.189722Z",
          "shell.execute_reply.started": "2024-04-29T16:34:39.180245Z",
          "shell.execute_reply": "2024-04-29T16:34:39.188590Z"
        },
        "trusted": true,
        "id": "SVsu-rHwvijA"
      },
      "execution_count": 9,
      "outputs": []
    },
    {
      "cell_type": "code",
      "source": [
        "colors = sns.color_palette(\"pastel\")\n",
        "\n",
        "plt.figure(figsize=(15,10))\n",
        "plt.subplot(1, 3, 1)\n",
        "plt.pie(\n",
        "    train_df.label.value_counts(),\n",
        "    labels=train_df.label.value_counts().index,\n",
        "    colors=colors,\n",
        "    autopct=lambda x: '{:.1f}%\\n{:.0f}'.format(x, len(train_df)*x/100)\n",
        ")\n",
        "plt.title('Training data distripution')\n",
        "\n",
        "plt.subplot(1, 3, 2)\n",
        "plt.pie(\n",
        "    val_df.label.value_counts(),\n",
        "    labels=val_df.label.value_counts().index,\n",
        "    colors=colors,\n",
        "    autopct=lambda x: '{:.1f}%\\n{:.0f}'.format(x, len(val_df)*x/100)\n",
        ")\n",
        "plt.title('Validation data distripution')\n",
        "\n",
        "plt.subplot(1, 3, 3)\n",
        "plt.pie(\n",
        "    test_df.label.value_counts(),\n",
        "    labels=test_df.label.value_counts().index,\n",
        "    colors=colors,\n",
        "    autopct=lambda x: '{:.1f}%\\n{:.0f}'.format(x, len(test_df)*x/100)\n",
        ")\n",
        "plt.title('testing data distripution')\n",
        "\n",
        "plt.tight_layout()\n",
        "plt.show()"
      ],
      "metadata": {
        "execution": {
          "iopub.status.busy": "2024-04-29T16:34:39.191221Z",
          "iopub.execute_input": "2024-04-29T16:34:39.191592Z",
          "iopub.status.idle": "2024-04-29T16:34:39.871968Z",
          "shell.execute_reply.started": "2024-04-29T16:34:39.191557Z",
          "shell.execute_reply": "2024-04-29T16:34:39.870962Z"
        },
        "trusted": true,
        "colab": {
          "base_uri": "https://localhost:8080/",
          "height": 427
        },
        "id": "vsjnfsngvijA",
        "outputId": "607293ca-4f34-4638-d6a2-fd256bea9642"
      },
      "execution_count": 10,
      "outputs": [
        {
          "output_type": "display_data",
          "data": {
            "text/plain": [
              "<Figure size 1500x1000 with 3 Axes>"
            ],
            "image/png": "[encoded data removed]"
          },
          "metadata": {}
        }
      ]
    },
    {
      "cell_type": "code",
      "source": [
        "all_train_text = train_df.text.values\n",
        "all_train_text = \" \".join(all_train_text)\n",
        "unique_list = list(set(all_train_text.split()))\n",
        "\n",
        "print(\"Training data got {} unique words.\".format(len(unique_list)))\n",
        "# all_train_text"
      ],
      "metadata": {
        "execution": {
          "iopub.status.busy": "2024-04-29T16:34:39.873739Z",
          "iopub.execute_input": "2024-04-29T16:34:39.874121Z",
          "iopub.status.idle": "2024-04-29T16:34:39.931669Z",
          "shell.execute_reply.started": "2024-04-29T16:34:39.874091Z",
          "shell.execute_reply": "2024-04-29T16:34:39.930589Z"
        },
        "trusted": true,
        "colab": {
          "base_uri": "https://localhost:8080/"
        },
        "id": "B_qIccR0vijB",
        "outputId": "64f474e3-f0da-4398-cc01-db5ed4a1bd40"
      },
      "execution_count": 11,
      "outputs": [
        {
          "output_type": "stream",
          "name": "stdout",
          "text": [
            "Training data got 15212 unique words.\n"
          ]
        }
      ]
    },
    {
      "cell_type": "code",
      "source": [
        "vectorizer = keras.layers.TextVectorization(max_tokens=15000, output_sequence_length=100)\n",
        "text_ds = tensorflow.data.Dataset.from_tensor_slices(train_df.text.values).batch(128)\n",
        "vectorizer.adapt(text_ds)"
      ],
      "metadata": {
        "execution": {
          "iopub.status.busy": "2024-04-29T16:34:39.932818Z",
          "iopub.execute_input": "2024-04-29T16:34:39.933140Z",
          "iopub.status.idle": "2024-04-29T16:34:41.760665Z",
          "shell.execute_reply.started": "2024-04-29T16:34:39.933113Z",
          "shell.execute_reply": "2024-04-29T16:34:41.759807Z"
        },
        "trusted": true,
        "id": "pfp4VxDMvijB"
      },
      "execution_count": 12,
      "outputs": []
    },
    {
      "cell_type": "code",
      "source": [
        "next(iter(text_ds))[:10], len(text_ds)"
      ],
      "metadata": {
        "execution": {
          "iopub.status.busy": "2024-04-29T16:34:41.765110Z",
          "iopub.execute_input": "2024-04-29T16:34:41.765409Z",
          "iopub.status.idle": "2024-04-29T16:34:41.778737Z",
          "shell.execute_reply.started": "2024-04-29T16:34:41.765386Z",
          "shell.execute_reply": "2024-04-29T16:34:41.777695Z"
        },
        "trusted": true,
        "colab": {
          "base_uri": "https://localhost:8080/"
        },
        "id": "bU_KO_iJvijC",
        "outputId": "d83ca92d-c99a-4316-f16f-140dfaa8c455"
      },
      "execution_count": 13,
      "outputs": [
        {
          "output_type": "execute_result",
          "data": {
            "text/plain": [
              "(<tf.Tensor: shape=(10,), dtype=string, numpy=\n",
              " array([b'i didnt feel humiliated',\n",
              "        b'i can go from feeling so hopeless to so damned hopeful just from being around someone who cares and is awake',\n",
              "        b'im grabbing a minute to post i feel greedy wrong',\n",
              "        b'i am ever feeling nostalgic about the fireplace i will know that it is still on the property',\n",
              "        b'i am feeling grouchy',\n",
              "        b'ive been feeling a little burdened lately wasnt sure why that was',\n",
              "        b'ive been taking or milligrams or times recommended amount and ive fallen asleep a lot faster but i also feel like so funny',\n",
              "        b'i feel as confused about life as a teenager or as jaded as a year old man',\n",
              "        b'i have been with petronas for years i feel that petronas has performed well and made a huge profit',\n",
              "        b'i feel romantic too'], dtype=object)>,\n",
              " 125)"
            ]
          },
          "metadata": {},
          "execution_count": 13
        }
      ]
    },
    {
      "cell_type": "code",
      "source": [
        "test_sent = \"I love the selected topics in artificial intelligence two course\".lower()\n",
        "output = vectorizer([[test_sent]])\n",
        "output.numpy()"
      ],
      "metadata": {
        "execution": {
          "iopub.status.busy": "2024-04-29T16:34:41.779737Z",
          "iopub.execute_input": "2024-04-29T16:34:41.780014Z",
          "iopub.status.idle": "2024-04-29T16:34:43.511854Z",
          "shell.execute_reply.started": "2024-04-29T16:34:41.779974Z",
          "shell.execute_reply": "2024-04-29T16:34:43.510825Z"
        },
        "trusted": true,
        "colab": {
          "base_uri": "https://localhost:8080/"
        },
        "id": "gPV0jzblvijC",
        "outputId": "4525fd66-ad23-43cc-c521-9013f842f8a2"
      },
      "execution_count": 14,
      "outputs": [
        {
          "output_type": "execute_result",
          "data": {
            "text/plain": [
              "array([[    2,    85,     6,  5772,  5484,    12, 14850,  3846,   219,\n",
              "          704,     0,     0,     0,     0,     0,     0,     0,     0,\n",
              "            0,     0,     0,     0,     0,     0,     0,     0,     0,\n",
              "            0,     0,     0,     0,     0,     0,     0,     0,     0,\n",
              "            0,     0,     0,     0,     0,     0,     0,     0,     0,\n",
              "            0,     0,     0,     0,     0,     0,     0,     0,     0,\n",
              "            0,     0,     0,     0,     0,     0,     0,     0,     0,\n",
              "            0,     0,     0,     0,     0,     0,     0,     0,     0,\n",
              "            0,     0,     0,     0,     0,     0,     0,     0,     0,\n",
              "            0,     0,     0,     0,     0,     0,     0,     0,     0,\n",
              "            0,     0,     0,     0,     0,     0,     0,     0,     0,\n",
              "            0]])"
            ]
          },
          "metadata": {},
          "execution_count": 14
        }
      ]
    },
    {
      "cell_type": "code",
      "source": [
        "voc = vectorizer.get_vocabulary()\n",
        "word_index = dict(zip(voc, range(len(voc))))\n",
        "\n",
        "dict(zip(test_sent.split(), [word_index[w] for w in test_sent.split()]))"
      ],
      "metadata": {
        "execution": {
          "iopub.status.busy": "2024-04-29T16:34:43.513192Z",
          "iopub.execute_input": "2024-04-29T16:34:43.513533Z",
          "iopub.status.idle": "2024-04-29T16:34:43.596367Z",
          "shell.execute_reply.started": "2024-04-29T16:34:43.513506Z",
          "shell.execute_reply": "2024-04-29T16:34:43.595439Z"
        },
        "trusted": true,
        "colab": {
          "base_uri": "https://localhost:8080/"
        },
        "id": "WZAiZHLuvijC",
        "outputId": "00ded558-b830-44bd-cb30-792101bd9d29"
      },
      "execution_count": 15,
      "outputs": [
        {
          "output_type": "execute_result",
          "data": {
            "text/plain": [
              "{'i': 2,\n",
              " 'love': 85,\n",
              " 'the': 6,\n",
              " 'selected': 5772,\n",
              " 'topics': 5484,\n",
              " 'in': 12,\n",
              " 'artificial': 14850,\n",
              " 'intelligence': 3846,\n",
              " 'two': 219,\n",
              " 'course': 704}"
            ]
          },
          "metadata": {},
          "execution_count": 15
        }
      ]
    },
    {
      "cell_type": "code",
      "source": [
        "print('Vectorizing training text data...')\n",
        "X_train = np.array(list(map(vectorizer, tqdm(train_df.text.values))))\n",
        "\n",
        "print('Vectorizing validation text data...')\n",
        "X_val = np.array(list(map(vectorizer, tqdm(val_df.text.values))))\n",
        "\n",
        "print('Vectorizing testing text data...')\n",
        "X_test = np.array(list(map(vectorizer, tqdm(test_df.text.values))))"
      ],
      "metadata": {
        "execution": {
          "iopub.status.busy": "2024-04-29T16:34:43.597649Z",
          "iopub.execute_input": "2024-04-29T16:34:43.597937Z",
          "iopub.status.idle": "2024-04-29T16:37:55.664221Z",
          "shell.execute_reply.started": "2024-04-29T16:34:43.597914Z",
          "shell.execute_reply": "2024-04-29T16:37:55.663233Z"
        },
        "trusted": true,
        "colab": {
          "base_uri": "https://localhost:8080/"
        },
        "id": "-8CEqF_jvijC",
        "outputId": "456049aa-93d3-494c-9b48-6a5d7249f49e"
      },
      "execution_count": 16,
      "outputs": [
        {
          "output_type": "stream",
          "name": "stdout",
          "text": [
            "Vectorizing training text data...\n"
          ]
        },
        {
          "output_type": "stream",
          "name": "stderr",
          "text": [
            "100%|██████████| 16000/16000 [02:47<00:00, 95.51it/s] \n"
          ]
        },
        {
          "output_type": "stream",
          "name": "stdout",
          "text": [
            "Vectorizing validation text data...\n"
          ]
        },
        {
          "output_type": "stream",
          "name": "stderr",
          "text": [
            "100%|██████████| 2000/2000 [00:21<00:00, 94.03it/s] \n"
          ]
        },
        {
          "output_type": "stream",
          "name": "stdout",
          "text": [
            "Vectorizing testing text data...\n"
          ]
        },
        {
          "output_type": "stream",
          "name": "stderr",
          "text": [
            "100%|██████████| 2000/2000 [00:18<00:00, 106.22it/s]\n"
          ]
        }
      ]
    },
    {
      "cell_type": "code",
      "source": [
        "hot_encoder = OneHotEncoder().fit(train_df.label.values.reshape(-1, 1))\n",
        "\n",
        "y_train = hot_encoder.transform(train_df.label.values.reshape(-1, 1)).toarray()\n",
        "y_val = hot_encoder.transform(val_df.label.values.reshape(-1, 1)).toarray()\n",
        "y_test = hot_encoder.transform(test_df.label.values.reshape(-1, 1)).toarray()"
      ],
      "metadata": {
        "execution": {
          "iopub.status.busy": "2024-04-29T16:38:30.494767Z",
          "iopub.execute_input": "2024-04-29T16:38:30.495797Z",
          "iopub.status.idle": "2024-04-29T16:38:30.513677Z",
          "shell.execute_reply.started": "2024-04-29T16:38:30.495754Z",
          "shell.execute_reply": "2024-04-29T16:38:30.512642Z"
        },
        "trusted": true,
        "id": "DqKl9ab6vijD"
      },
      "execution_count": 17,
      "outputs": []
    },
    {
      "cell_type": "code",
      "source": [
        "X_train.shape, y_val.shape"
      ],
      "metadata": {
        "execution": {
          "iopub.status.busy": "2024-04-29T16:38:31.317039Z",
          "iopub.execute_input": "2024-04-29T16:38:31.317541Z",
          "iopub.status.idle": "2024-04-29T16:38:31.324145Z",
          "shell.execute_reply.started": "2024-04-29T16:38:31.317505Z",
          "shell.execute_reply": "2024-04-29T16:38:31.323050Z"
        },
        "trusted": true,
        "id": "2ndclE0ZvijD",
        "colab": {
          "base_uri": "https://localhost:8080/"
        },
        "outputId": "5476cddf-d254-4b8b-ebcf-3db863895193"
      },
      "execution_count": 18,
      "outputs": [
        {
          "output_type": "execute_result",
          "data": {
            "text/plain": [
              "((16000, 100), (2000, 6))"
            ]
          },
          "metadata": {},
          "execution_count": 18
        }
      ]
    },
    {
      "cell_type": "code",
      "source": [
        "path_to_glove_file = \"glove.6B.300d.txt\"\n",
        "\n",
        "embeddings_index = {}\n",
        "with open(path_to_glove_file) as f:\n",
        "    print(\"loading glove embeddings..\")\n",
        "    for line in tqdm(f.readlines()):\n",
        "        word, coefs = line.split(maxsplit=1)\n",
        "        coefs = np.fromstring(coefs, \"f\", sep=\" \")\n",
        "        embeddings_index[word] = coefs\n",
        "\n",
        "print(\"Found %s word vectors.\" % len(embeddings_index))\n"
      ],
      "metadata": {
        "execution": {
          "iopub.status.busy": "2024-04-29T16:38:33.221787Z",
          "iopub.execute_input": "2024-04-29T16:38:33.223039Z",
          "iopub.status.idle": "2024-04-29T16:39:12.755221Z",
          "shell.execute_reply.started": "2024-04-29T16:38:33.222971Z",
          "shell.execute_reply": "2024-04-29T16:39:12.754238Z"
        },
        "trusted": true,
        "id": "qw1lkr_zvijD",
        "colab": {
          "base_uri": "https://localhost:8080/"
        },
        "outputId": "dfa3d08b-170d-4ebe-eba9-2b94ceef5c65"
      },
      "execution_count": 19,
      "outputs": [
        {
          "output_type": "stream",
          "name": "stdout",
          "text": [
            "loading glove embeddings..\n"
          ]
        },
        {
          "output_type": "stream",
          "name": "stderr",
          "text": [
            "100%|██████████| 400000/400000 [00:43<00:00, 9127.98it/s]\n"
          ]
        },
        {
          "output_type": "stream",
          "name": "stdout",
          "text": [
            "Found 400000 word vectors.\n"
          ]
        }
      ]
    },
    {
      "cell_type": "code",
      "source": [
        "num_tokens = len(voc) + 2\n",
        "embedding_dim = 300\n",
        "hits = 0\n",
        "misses = 0\n",
        "\n",
        "# Prepare embedding matrix\n",
        "embedding_matrix = np.zeros((num_tokens, embedding_dim))\n",
        "for word, i in word_index.items():\n",
        "    embedding_vector = embeddings_index.get(word)\n",
        "    if embedding_vector is not None:\n",
        "        # Words not found in embedding index will be all-zeros.\n",
        "        # This includes the representation for \"padding\" and \"OOV\"\n",
        "        embedding_matrix[i] = embedding_vector\n",
        "        hits += 1\n",
        "    else:\n",
        "        misses += 1\n",
        "print(\"Converted %d words (%d misses)\" % (hits, misses))\n"
      ],
      "metadata": {
        "execution": {
          "iopub.status.busy": "2024-04-29T16:39:15.457283Z",
          "iopub.execute_input": "2024-04-29T16:39:15.458462Z",
          "iopub.status.idle": "2024-04-29T16:39:15.529238Z",
          "shell.execute_reply.started": "2024-04-29T16:39:15.458430Z",
          "shell.execute_reply": "2024-04-29T16:39:15.528193Z"
        },
        "trusted": true,
        "id": "RCXWYUJGvijD",
        "colab": {
          "base_uri": "https://localhost:8080/"
        },
        "outputId": "133b9366-36ce-4f6a-c2c9-214f4e20a2ab"
      },
      "execution_count": 20,
      "outputs": [
        {
          "output_type": "stream",
          "name": "stdout",
          "text": [
            "Converted 14034 words (966 misses)\n"
          ]
        }
      ]
    },
    {
      "cell_type": "code",
      "source": [
        "embedding_layer = Embedding(\n",
        "    num_tokens,\n",
        "    embedding_dim,\n",
        "    trainable=False,\n",
        ")\n",
        "embedding_layer.build((1,))\n",
        "embedding_layer.set_weights([embedding_matrix])"
      ],
      "metadata": {
        "execution": {
          "iopub.status.busy": "2024-04-29T16:39:17.758593Z",
          "iopub.execute_input": "2024-04-29T16:39:17.758960Z",
          "iopub.status.idle": "2024-04-29T16:39:17.839646Z",
          "shell.execute_reply.started": "2024-04-29T16:39:17.758932Z",
          "shell.execute_reply": "2024-04-29T16:39:17.838462Z"
        },
        "trusted": true,
        "id": "5sqNGnGLvijD"
      },
      "execution_count": 40,
      "outputs": []
    },
    {
      "cell_type": "code",
      "source": [
        "int_sequences_input = keras.Input(shape=(None,), dtype=\"int32\")\n",
        "embedded_sequences = embedding_layer(int_sequences_input)\n",
        "x = keras.layers.Dropout(0.5)(embedded_sequences) # 0.4\n",
        "x = keras.layers.Conv1D(128, 5, activation=\"relu\")(x)\n",
        "x = keras.layers.MaxPooling1D(5)(x)\n",
        "x = keras.layers.Conv1D(128, 5, activation=\"relu\")(x)\n",
        "x = keras.layers.MaxPooling1D(5)(x)\n",
        "x = keras.layers.Conv1D(128, 5, activation=\"relu\", padding = 'same')(x)\n",
        "x = keras.layers.GlobalMaxPooling1D()(x)\n",
        "x = keras.layers.Dense(128, activation=\"relu\")(x)\n",
        "x = keras.layers.Dropout(0.3)(x)\n",
        "preds = keras.layers.Dense(train_df.label.nunique(), activation=\"softmax\")(x)\n",
        "model = keras.Model(int_sequences_input, preds)\n",
        "model.summary()"
      ],
      "metadata": {
        "execution": {
          "iopub.status.busy": "2024-04-29T16:42:15.753491Z",
          "iopub.execute_input": "2024-04-29T16:42:15.754334Z",
          "iopub.status.idle": "2024-04-29T16:42:15.838964Z",
          "shell.execute_reply.started": "2024-04-29T16:42:15.754301Z",
          "shell.execute_reply": "2024-04-29T16:42:15.837499Z"
        },
        "trusted": true,
        "colab": {
          "base_uri": "https://localhost:8080/",
          "height": 561
        },
        "id": "aIWudPkmvijD",
        "outputId": "426781fc-0611-4905-f5d8-bc1c9ba99fd4"
      },
      "execution_count": 41,
      "outputs": [
        {
          "output_type": "display_data",
          "data": {
            "text/plain": [
              "\u001b[1mModel: \"functional_7\"\u001b[0m\n"
            ],
            "text/html": [
              "<pre style=\"white-space:pre;overflow-x:auto;line-height:normal;font-family:Menlo,'DejaVu Sans Mono',consolas,'Courier New',monospace\"><span style=\"font-weight: bold\">Model: \"functional_7\"</span>\n",
              "</pre>\n"
            ]
          },
          "metadata": {}
        },
        {
          "output_type": "display_data",
          "data": {
            "text/plain": [
              "┏━━━━━━━━━━━━━━━━━━━━━━━━━━━━━━━━━━━━━━┳━━━━━━━━━━━━━━━━━━━━━━━━━━━━━┳━━━━━━━━━━━━━━━━━┓\n",
              "┃\u001b[1m \u001b[0m\u001b[1mLayer (type)                        \u001b[0m\u001b[1m \u001b[0m┃\u001b[1m \u001b[0m\u001b[1mOutput Shape               \u001b[0m\u001b[1m \u001b[0m┃\u001b[1m \u001b[0m\u001b[1m        Param #\u001b[0m\u001b[1m \u001b[0m┃\n",
              "┡━━━━━━━━━━━━━━━━━━━━━━━━━━━━━━━━━━━━━━╇━━━━━━━━━━━━━━━━━━━━━━━━━━━━━╇━━━━━━━━━━━━━━━━━┩\n",
              "│ input_layer_3 (\u001b[38;5;33mInputLayer\u001b[0m)           │ (\u001b[38;5;45mNone\u001b[0m, \u001b[38;5;45mNone\u001b[0m)                │               \u001b[38;5;34m0\u001b[0m │\n",
              "├──────────────────────────────────────┼─────────────────────────────┼─────────────────┤\n",
              "│ embedding_3 (\u001b[38;5;33mEmbedding\u001b[0m)              │ (\u001b[38;5;45mNone\u001b[0m, \u001b[38;5;45mNone\u001b[0m, \u001b[38;5;34m300\u001b[0m)           │       \u001b[38;5;34m4,500,600\u001b[0m │\n",
              "├──────────────────────────────────────┼─────────────────────────────┼─────────────────┤\n",
              "│ dropout_6 (\u001b[38;5;33mDropout\u001b[0m)                  │ (\u001b[38;5;45mNone\u001b[0m, \u001b[38;5;45mNone\u001b[0m, \u001b[38;5;34m300\u001b[0m)           │               \u001b[38;5;34m0\u001b[0m │\n",
              "├──────────────────────────────────────┼─────────────────────────────┼─────────────────┤\n",
              "│ conv1d_9 (\u001b[38;5;33mConv1D\u001b[0m)                    │ (\u001b[38;5;45mNone\u001b[0m, \u001b[38;5;45mNone\u001b[0m, \u001b[38;5;34m128\u001b[0m)           │         \u001b[38;5;34m192,128\u001b[0m │\n",
              "├──────────────────────────────────────┼─────────────────────────────┼─────────────────┤\n",
              "│ max_pooling1d_6 (\u001b[38;5;33mMaxPooling1D\u001b[0m)       │ (\u001b[38;5;45mNone\u001b[0m, \u001b[38;5;45mNone\u001b[0m, \u001b[38;5;34m128\u001b[0m)           │               \u001b[38;5;34m0\u001b[0m │\n",
              "├──────────────────────────────────────┼─────────────────────────────┼─────────────────┤\n",
              "│ conv1d_10 (\u001b[38;5;33mConv1D\u001b[0m)                   │ (\u001b[38;5;45mNone\u001b[0m, \u001b[38;5;45mNone\u001b[0m, \u001b[38;5;34m128\u001b[0m)           │          \u001b[38;5;34m82,048\u001b[0m │\n",
              "├──────────────────────────────────────┼─────────────────────────────┼─────────────────┤\n",
              "│ max_pooling1d_7 (\u001b[38;5;33mMaxPooling1D\u001b[0m)       │ (\u001b[38;5;45mNone\u001b[0m, \u001b[38;5;45mNone\u001b[0m, \u001b[38;5;34m128\u001b[0m)           │               \u001b[38;5;34m0\u001b[0m │\n",
              "├──────────────────────────────────────┼─────────────────────────────┼─────────────────┤\n",
              "│ conv1d_11 (\u001b[38;5;33mConv1D\u001b[0m)                   │ (\u001b[38;5;45mNone\u001b[0m, \u001b[38;5;45mNone\u001b[0m, \u001b[38;5;34m128\u001b[0m)           │          \u001b[38;5;34m82,048\u001b[0m │\n",
              "├──────────────────────────────────────┼─────────────────────────────┼─────────────────┤\n",
              "│ global_max_pooling1d_3               │ (\u001b[38;5;45mNone\u001b[0m, \u001b[38;5;34m128\u001b[0m)                 │               \u001b[38;5;34m0\u001b[0m │\n",
              "│ (\u001b[38;5;33mGlobalMaxPooling1D\u001b[0m)                 │                             │                 │\n",
              "├──────────────────────────────────────┼─────────────────────────────┼─────────────────┤\n",
              "│ dense_6 (\u001b[38;5;33mDense\u001b[0m)                      │ (\u001b[38;5;45mNone\u001b[0m, \u001b[38;5;34m128\u001b[0m)                 │          \u001b[38;5;34m16,512\u001b[0m │\n",
              "├──────────────────────────────────────┼─────────────────────────────┼─────────────────┤\n",
              "│ dropout_7 (\u001b[38;5;33mDropout\u001b[0m)                  │ (\u001b[38;5;45mNone\u001b[0m, \u001b[38;5;34m128\u001b[0m)                 │               \u001b[38;5;34m0\u001b[0m │\n",
              "├──────────────────────────────────────┼─────────────────────────────┼─────────────────┤\n",
              "│ dense_7 (\u001b[38;5;33mDense\u001b[0m)                      │ (\u001b[38;5;45mNone\u001b[0m, \u001b[38;5;34m6\u001b[0m)                   │             \u001b[38;5;34m774\u001b[0m │\n",
              "└──────────────────────────────────────┴─────────────────────────────┴─────────────────┘\n"
            ],
            "text/html": [
              "<pre style=\"white-space:pre;overflow-x:auto;line-height:normal;font-family:Menlo,'DejaVu Sans Mono',consolas,'Courier New',monospace\">┏━━━━━━━━━━━━━━━━━━━━━━━━━━━━━━━━━━━━━━┳━━━━━━━━━━━━━━━━━━━━━━━━━━━━━┳━━━━━━━━━━━━━━━━━┓\n",
              "┃<span style=\"font-weight: bold\"> Layer (type)                         </span>┃<span style=\"font-weight: bold\"> Output Shape                </span>┃<span style=\"font-weight: bold\">         Param # </span>┃\n",
              "┡━━━━━━━━━━━━━━━━━━━━━━━━━━━━━━━━━━━━━━╇━━━━━━━━━━━━━━━━━━━━━━━━━━━━━╇━━━━━━━━━━━━━━━━━┩\n",
              "│ input_layer_3 (<span style=\"color: #0087ff; text-decoration-color: #0087ff\">InputLayer</span>)           │ (<span style=\"color: #00d7ff; text-decoration-color: #00d7ff\">None</span>, <span style=\"color: #00d7ff; text-decoration-color: #00d7ff\">None</span>)                │               <span style=\"color: #00af00; text-decoration-color: #00af00\">0</span> │\n",
              "├──────────────────────────────────────┼─────────────────────────────┼─────────────────┤\n",
              "│ embedding_3 (<span style=\"color: #0087ff; text-decoration-color: #0087ff\">Embedding</span>)              │ (<span style=\"color: #00d7ff; text-decoration-color: #00d7ff\">None</span>, <span style=\"color: #00d7ff; text-decoration-color: #00d7ff\">None</span>, <span style=\"color: #00af00; text-decoration-color: #00af00\">300</span>)           │       <span style=\"color: #00af00; text-decoration-color: #00af00\">4,500,600</span> │\n",
              "├──────────────────────────────────────┼─────────────────────────────┼─────────────────┤\n",
              "│ dropout_6 (<span style=\"color: #0087ff; text-decoration-color: #0087ff\">Dropout</span>)                  │ (<span style=\"color: #00d7ff; text-decoration-color: #00d7ff\">None</span>, <span style=\"color: #00d7ff; text-decoration-color: #00d7ff\">None</span>, <span style=\"color: #00af00; text-decoration-color: #00af00\">300</span>)           │               <span style=\"color: #00af00; text-decoration-color: #00af00\">0</span> │\n",
              "├──────────────────────────────────────┼─────────────────────────────┼─────────────────┤\n",
              "│ conv1d_9 (<span style=\"color: #0087ff; text-decoration-color: #0087ff\">Conv1D</span>)                    │ (<span style=\"color: #00d7ff; text-decoration-color: #00d7ff\">None</span>, <span style=\"color: #00d7ff; text-decoration-color: #00d7ff\">None</span>, <span style=\"color: #00af00; text-decoration-color: #00af00\">128</span>)           │         <span style=\"color: #00af00; text-decoration-color: #00af00\">192,128</span> │\n",
              "├──────────────────────────────────────┼─────────────────────────────┼─────────────────┤\n",
              "│ max_pooling1d_6 (<span style=\"color: #0087ff; text-decoration-color: #0087ff\">MaxPooling1D</span>)       │ (<span style=\"color: #00d7ff; text-decoration-color: #00d7ff\">None</span>, <span style=\"color: #00d7ff; text-decoration-color: #00d7ff\">None</span>, <span style=\"color: #00af00; text-decoration-color: #00af00\">128</span>)           │               <span style=\"color: #00af00; text-decoration-color: #00af00\">0</span> │\n",
              "├──────────────────────────────────────┼─────────────────────────────┼─────────────────┤\n",
              "│ conv1d_10 (<span style=\"color: #0087ff; text-decoration-color: #0087ff\">Conv1D</span>)                   │ (<span style=\"color: #00d7ff; text-decoration-color: #00d7ff\">None</span>, <span style=\"color: #00d7ff; text-decoration-color: #00d7ff\">None</span>, <span style=\"color: #00af00; text-decoration-color: #00af00\">128</span>)           │          <span style=\"color: #00af00; text-decoration-color: #00af00\">82,048</span> │\n",
              "├──────────────────────────────────────┼─────────────────────────────┼─────────────────┤\n",
              "│ max_pooling1d_7 (<span style=\"color: #0087ff; text-decoration-color: #0087ff\">MaxPooling1D</span>)       │ (<span style=\"color: #00d7ff; text-decoration-color: #00d7ff\">None</span>, <span style=\"color: #00d7ff; text-decoration-color: #00d7ff\">None</span>, <span style=\"color: #00af00; text-decoration-color: #00af00\">128</span>)           │               <span style=\"color: #00af00; text-decoration-color: #00af00\">0</span> │\n",
              "├──────────────────────────────────────┼─────────────────────────────┼─────────────────┤\n",
              "│ conv1d_11 (<span style=\"color: #0087ff; text-decoration-color: #0087ff\">Conv1D</span>)                   │ (<span style=\"color: #00d7ff; text-decoration-color: #00d7ff\">None</span>, <span style=\"color: #00d7ff; text-decoration-color: #00d7ff\">None</span>, <span style=\"color: #00af00; text-decoration-color: #00af00\">128</span>)           │          <span style=\"color: #00af00; text-decoration-color: #00af00\">82,048</span> │\n",
              "├──────────────────────────────────────┼─────────────────────────────┼─────────────────┤\n",
              "│ global_max_pooling1d_3               │ (<span style=\"color: #00d7ff; text-decoration-color: #00d7ff\">None</span>, <span style=\"color: #00af00; text-decoration-color: #00af00\">128</span>)                 │               <span style=\"color: #00af00; text-decoration-color: #00af00\">0</span> │\n",
              "│ (<span style=\"color: #0087ff; text-decoration-color: #0087ff\">GlobalMaxPooling1D</span>)                 │                             │                 │\n",
              "├──────────────────────────────────────┼─────────────────────────────┼─────────────────┤\n",
              "│ dense_6 (<span style=\"color: #0087ff; text-decoration-color: #0087ff\">Dense</span>)                      │ (<span style=\"color: #00d7ff; text-decoration-color: #00d7ff\">None</span>, <span style=\"color: #00af00; text-decoration-color: #00af00\">128</span>)                 │          <span style=\"color: #00af00; text-decoration-color: #00af00\">16,512</span> │\n",
              "├──────────────────────────────────────┼─────────────────────────────┼─────────────────┤\n",
              "│ dropout_7 (<span style=\"color: #0087ff; text-decoration-color: #0087ff\">Dropout</span>)                  │ (<span style=\"color: #00d7ff; text-decoration-color: #00d7ff\">None</span>, <span style=\"color: #00af00; text-decoration-color: #00af00\">128</span>)                 │               <span style=\"color: #00af00; text-decoration-color: #00af00\">0</span> │\n",
              "├──────────────────────────────────────┼─────────────────────────────┼─────────────────┤\n",
              "│ dense_7 (<span style=\"color: #0087ff; text-decoration-color: #0087ff\">Dense</span>)                      │ (<span style=\"color: #00d7ff; text-decoration-color: #00d7ff\">None</span>, <span style=\"color: #00af00; text-decoration-color: #00af00\">6</span>)                   │             <span style=\"color: #00af00; text-decoration-color: #00af00\">774</span> │\n",
              "└──────────────────────────────────────┴─────────────────────────────┴─────────────────┘\n",
              "</pre>\n"
            ]
          },
          "metadata": {}
        },
        {
          "output_type": "display_data",
          "data": {
            "text/plain": [
              "\u001b[1m Total params: \u001b[0m\u001b[38;5;34m4,874,110\u001b[0m (18.59 MB)\n"
            ],
            "text/html": [
              "<pre style=\"white-space:pre;overflow-x:auto;line-height:normal;font-family:Menlo,'DejaVu Sans Mono',consolas,'Courier New',monospace\"><span style=\"font-weight: bold\"> Total params: </span><span style=\"color: #00af00; text-decoration-color: #00af00\">4,874,110</span> (18.59 MB)\n",
              "</pre>\n"
            ]
          },
          "metadata": {}
        },
        {
          "output_type": "display_data",
          "data": {
            "text/plain": [
              "\u001b[1m Trainable params: \u001b[0m\u001b[38;5;34m373,510\u001b[0m (1.42 MB)\n"
            ],
            "text/html": [
              "<pre style=\"white-space:pre;overflow-x:auto;line-height:normal;font-family:Menlo,'DejaVu Sans Mono',consolas,'Courier New',monospace\"><span style=\"font-weight: bold\"> Trainable params: </span><span style=\"color: #00af00; text-decoration-color: #00af00\">373,510</span> (1.42 MB)\n",
              "</pre>\n"
            ]
          },
          "metadata": {}
        },
        {
          "output_type": "display_data",
          "data": {
            "text/plain": [
              "\u001b[1m Non-trainable params: \u001b[0m\u001b[38;5;34m4,500,600\u001b[0m (17.17 MB)\n"
            ],
            "text/html": [
              "<pre style=\"white-space:pre;overflow-x:auto;line-height:normal;font-family:Menlo,'DejaVu Sans Mono',consolas,'Courier New',monospace\"><span style=\"font-weight: bold\"> Non-trainable params: </span><span style=\"color: #00af00; text-decoration-color: #00af00\">4,500,600</span> (17.17 MB)\n",
              "</pre>\n"
            ]
          },
          "metadata": {}
        }
      ]
    },
    {
      "cell_type": "code",
      "source": [
        "opt = tensorflow.keras.optimizers.Adam()\n",
        "\n",
        "model.compile(\n",
        "   loss='categorical_crossentropy',\n",
        "   optimizer=opt, # adam\n",
        "    metrics=[\"acc\", F1Score()]\n",
        ")"
      ],
      "metadata": {
        "id": "TjxJcTvxvijE"
      },
      "execution_count": 42,
      "outputs": []
    },
    {
      "cell_type": "code",
      "source": [
        "# create the classifier\n",
        "classifier = KerasClassifier(model)"
      ],
      "metadata": {
        "id": "uQVpf-FS4lQ1"
      },
      "execution_count": 43,
      "outputs": []
    },
    {
      "cell_type": "code",
      "source": [
        "def random_sampling(classifier, X, n_instances=1000, verbose=0):\n",
        "    query_idx = np.random.choice(range(len(X)), n_instances, replace=False)\n",
        "    return query_idx, X[query_idx]\n",
        "\n",
        "query_strategies = {\n",
        "    \"Random_Sampling\": random_sampling,\n",
        "    \"Uncertainty_Sampling\": uncertainty_sampling,\n",
        "    \"Margin_Sampling\": margin_sampling,\n",
        "    \"Entropy_Sampling\": entropy_sampling\n",
        "}"
      ],
      "metadata": {
        "id": "bABHhtatnT-O"
      },
      "execution_count": 44,
      "outputs": []
    },
    {
      "cell_type": "code",
      "source": [
        "history = {}\n",
        "models = {}\n",
        "\n",
        "# assemble initial data\n",
        "n_initial = 500\n",
        "initial_idx = np.random.choice(range(len(X_train)), size=n_initial, replace=False)\n",
        "X_initial = X_train[initial_idx]\n",
        "y_initial = y_train[initial_idx]\n",
        "\n",
        "\n",
        "\n",
        "for query_strategy_name in query_strategies.keys():\n",
        "  # initialize ActiveLearner\n",
        "  print(f'Initializing model with {query_strategy_name} strategy...')\n",
        "  models[query_strategy_name] = ActiveLearner(\n",
        "      estimator=classifier,\n",
        "      X_training=X_initial, y_training=y_initial,\n",
        "      query_strategy=query_strategies[query_strategy_name],\n",
        "      verbose=1\n",
        "  )\n",
        "for query_strategy_name in query_strategies.keys():\n",
        "  acc_hist = list()\n",
        "  f1_hist = list()\n",
        "\n",
        "  # generate the pool\n",
        "  # remove the initial data from the training dataset\n",
        "  X_pool = np.delete(X_train, initial_idx, axis=0)\n",
        "  y_pool = np.delete(y_train, initial_idx, axis=0)\n",
        "\n",
        "  # the active learning loop\n",
        "  n_queries =  16\n",
        "  for idx in range(n_queries):\n",
        "      print('== Query no. %d' % (idx + 1) + f'/{n_queries}'+ f', using {query_strategy_name} strategy')\n",
        "      query_idx, query_instance = models[query_strategy_name].query(X_pool, n_instances=500, verbose=0)\n",
        "      models[query_strategy_name].teach(\n",
        "          X=X_pool[query_idx], y=y_pool[query_idx], only_new=False,\n",
        "          verbose=1\n",
        "      )\n",
        "\n",
        "      # getting teching history\n",
        "      y_pred = models[query_strategy_name].predict(X_test, verbose=0)\n",
        "      f1 = f1_score(np.argmax(y_test, axis=1), np.argmax(y_pred, axis=1), average='macro')\n",
        "      acc = accuracy_score(np.argmax(y_test, axis=1), np.argmax(y_pred, axis=1))\n",
        "      acc_hist.append(acc)\n",
        "      f1_hist.append(f1)\n",
        "      print(f\"\\tTest acc: {acc:0.4f}, Test F1: {f1:0.4f}\")\n",
        "      # remove queried instance from pool\n",
        "      X_pool = np.delete(X_pool, query_idx, axis=0)\n",
        "      y_pool = np.delete(y_pool, query_idx, axis=0)\n",
        "  history[query_strategy_name] = {\n",
        "      \"acc_hist\" : acc_hist,\n",
        "      \"f1_hist\" : f1_hist,\n",
        "      }\n",
        "  print(\"==\"*40, end=\"\\n\\n\")\n"
      ],
      "metadata": {
        "colab": {
          "base_uri": "https://localhost:8080/"
        },
        "id": "OsgirE5c5kPo",
        "outputId": "a65c64a6-1472-45a6-8dfa-e51352615477"
      },
      "execution_count": 45,
      "outputs": [
        {
          "output_type": "stream",
          "name": "stdout",
          "text": [
            "Initializing model with Random_Sampling strategy...\n",
            "\u001b[1m16/16\u001b[0m \u001b[32m━━━━━━━━━━━━━━━━━━━━\u001b[0m\u001b[37m\u001b[0m \u001b[1m3s\u001b[0m 73ms/step - acc: 0.2649 - f1_score: 0.1539 - loss: 1.7709\n",
            "Initializing model with Uncertainty_Sampling strategy...\n",
            "\u001b[1m16/16\u001b[0m \u001b[32m━━━━━━━━━━━━━━━━━━━━\u001b[0m\u001b[37m\u001b[0m \u001b[1m1s\u001b[0m 67ms/step - acc: 0.3079 - f1_score: 0.1020 - loss: 1.6277\n",
            "Initializing model with Margin_Sampling strategy...\n",
            "\u001b[1m16/16\u001b[0m \u001b[32m━━━━━━━━━━━━━━━━━━━━\u001b[0m\u001b[37m\u001b[0m \u001b[1m1s\u001b[0m 71ms/step - acc: 0.3366 - f1_score: 0.1342 - loss: 1.5736\n",
            "Initializing model with Entropy_Sampling strategy...\n",
            "\u001b[1m16/16\u001b[0m \u001b[32m━━━━━━━━━━━━━━━━━━━━\u001b[0m\u001b[37m\u001b[0m \u001b[1m1s\u001b[0m 72ms/step - acc: 0.2792 - f1_score: 0.1151 - loss: 1.5699\n",
            "== Query no. 1/16, using Random_Sampling strategy\n",
            "\u001b[1m32/32\u001b[0m \u001b[32m━━━━━━━━━━━━━━━━━━━━\u001b[0m\u001b[37m\u001b[0m \u001b[1m2s\u001b[0m 72ms/step - acc: 0.3493 - f1_score: 0.1243 - loss: 1.5929\n",
            "\tTest acc: 0.4125, Test F1: 0.1564\n",
            "== Query no. 2/16, using Random_Sampling strategy\n",
            "\u001b[1m47/47\u001b[0m \u001b[32m━━━━━━━━━━━━━━━━━━━━\u001b[0m\u001b[37m\u001b[0m \u001b[1m6s\u001b[0m 137ms/step - acc: 0.4003 - f1_score: 0.1691 - loss: 1.4874\n",
            "\tTest acc: 0.5015, Test F1: 0.2311\n",
            "== Query no. 3/16, using Random_Sampling strategy\n",
            "\u001b[1m63/63\u001b[0m \u001b[32m━━━━━━━━━━━━━━━━━━━━\u001b[0m\u001b[37m\u001b[0m \u001b[1m4s\u001b[0m 69ms/step - acc: 0.4746 - f1_score: 0.2485 - loss: 1.3085\n",
            "\tTest acc: 0.5895, Test F1: 0.3004\n",
            "== Query no. 4/16, using Random_Sampling strategy\n",
            "\u001b[1m79/79\u001b[0m \u001b[32m━━━━━━━━━━━━━━━━━━━━\u001b[0m\u001b[37m\u001b[0m \u001b[1m7s\u001b[0m 88ms/step - acc: 0.5117 - f1_score: 0.3224 - loss: 1.2530\n",
            "\tTest acc: 0.6005, Test F1: 0.3369\n",
            "== Query no. 5/16, using Random_Sampling strategy\n",
            "\u001b[1m94/94\u001b[0m \u001b[32m━━━━━━━━━━━━━━━━━━━━\u001b[0m\u001b[37m\u001b[0m \u001b[1m13s\u001b[0m 141ms/step - acc: 0.6052 - f1_score: 0.3892 - loss: 1.0147\n",
            "\tTest acc: 0.6555, Test F1: 0.4259\n",
            "== Query no. 6/16, using Random_Sampling strategy\n",
            "\u001b[1m110/110\u001b[0m \u001b[32m━━━━━━━━━━━━━━━━━━━━\u001b[0m\u001b[37m\u001b[0m \u001b[1m14s\u001b[0m 126ms/step - acc: 0.6649 - f1_score: 0.4862 - loss: 0.8922\n",
            "\tTest acc: 0.6835, Test F1: 0.5036\n",
            "== Query no. 7/16, using Random_Sampling strategy\n",
            "\u001b[1m125/125\u001b[0m \u001b[32m━━━━━━━━━━━━━━━━━━━━\u001b[0m\u001b[37m\u001b[0m \u001b[1m18s\u001b[0m 145ms/step - acc: 0.6954 - f1_score: 0.5346 - loss: 0.8352\n",
            "\tTest acc: 0.7380, Test F1: 0.5926\n",
            "== Query no. 8/16, using Random_Sampling strategy\n",
            "\u001b[1m141/141\u001b[0m \u001b[32m━━━━━━━━━━━━━━━━━━━━\u001b[0m\u001b[37m\u001b[0m \u001b[1m19s\u001b[0m 131ms/step - acc: 0.7407 - f1_score: 0.6122 - loss: 0.7269\n",
            "\tTest acc: 0.7670, Test F1: 0.6273\n",
            "== Query no. 9/16, using Random_Sampling strategy\n",
            "\u001b[1m157/157\u001b[0m \u001b[32m━━━━━━━━━━━━━━━━━━━━\u001b[0m\u001b[37m\u001b[0m \u001b[1m14s\u001b[0m 92ms/step - acc: 0.7745 - f1_score: 0.6972 - loss: 0.6436\n",
            "\tTest acc: 0.7700, Test F1: 0.6594\n",
            "== Query no. 10/16, using Random_Sampling strategy\n",
            "\u001b[1m172/172\u001b[0m \u001b[32m━━━━━━━━━━━━━━━━━━━━\u001b[0m\u001b[37m\u001b[0m \u001b[1m17s\u001b[0m 100ms/step - acc: 0.7930 - f1_score: 0.7382 - loss: 0.6195\n",
            "\tTest acc: 0.7930, Test F1: 0.7001\n",
            "== Query no. 11/16, using Random_Sampling strategy\n",
            "\u001b[1m188/188\u001b[0m \u001b[32m━━━━━━━━━━━━━━━━━━━━\u001b[0m\u001b[37m\u001b[0m \u001b[1m24s\u001b[0m 129ms/step - acc: 0.8240 - f1_score: 0.7851 - loss: 0.5117\n",
            "\tTest acc: 0.7855, Test F1: 0.7286\n",
            "== Query no. 12/16, using Random_Sampling strategy\n",
            "\u001b[1m204/204\u001b[0m \u001b[32m━━━━━━━━━━━━━━━━━━━━\u001b[0m\u001b[37m\u001b[0m \u001b[1m18s\u001b[0m 89ms/step - acc: 0.8327 - f1_score: 0.7978 - loss: 0.4831\n",
            "\tTest acc: 0.8095, Test F1: 0.7288\n",
            "== Query no. 13/16, using Random_Sampling strategy\n",
            "\u001b[1m219/219\u001b[0m \u001b[32m━━━━━━━━━━━━━━━━━━━━\u001b[0m\u001b[37m\u001b[0m \u001b[1m27s\u001b[0m 123ms/step - acc: 0.8424 - f1_score: 0.8118 - loss: 0.4568\n",
            "\tTest acc: 0.8200, Test F1: 0.7351\n",
            "== Query no. 14/16, using Random_Sampling strategy\n",
            "\u001b[1m235/235\u001b[0m \u001b[32m━━━━━━━━━━━━━━━━━━━━\u001b[0m\u001b[37m\u001b[0m \u001b[1m26s\u001b[0m 109ms/step - acc: 0.8650 - f1_score: 0.8430 - loss: 0.3919\n",
            "\tTest acc: 0.8305, Test F1: 0.7576\n",
            "== Query no. 15/16, using Random_Sampling strategy\n",
            "\u001b[1m250/250\u001b[0m \u001b[32m━━━━━━━━━━━━━━━━━━━━\u001b[0m\u001b[37m\u001b[0m \u001b[1m27s\u001b[0m 106ms/step - acc: 0.8671 - f1_score: 0.8359 - loss: 0.3785\n",
            "\tTest acc: 0.8300, Test F1: 0.7662\n",
            "== Query no. 16/16, using Random_Sampling strategy\n",
            "\u001b[1m266/266\u001b[0m \u001b[32m━━━━━━━━━━━━━━━━━━━━\u001b[0m\u001b[37m\u001b[0m \u001b[1m34s\u001b[0m 128ms/step - acc: 0.8750 - f1_score: 0.8489 - loss: 0.3674\n",
            "\tTest acc: 0.8390, Test F1: 0.7793\n",
            "================================================================================\n",
            "\n",
            "== Query no. 1/16, using Uncertainty_Sampling strategy\n",
            "\u001b[1m32/32\u001b[0m \u001b[32m━━━━━━━━━━━━━━━━━━━━\u001b[0m\u001b[37m\u001b[0m \u001b[1m3s\u001b[0m 78ms/step - acc: 0.6297 - f1_score: 0.6068 - loss: 0.9698\n",
            "\tTest acc: 0.8420, Test F1: 0.7625\n",
            "== Query no. 2/16, using Uncertainty_Sampling strategy\n",
            "\u001b[1m47/47\u001b[0m \u001b[32m━━━━━━━━━━━━━━━━━━━━\u001b[0m\u001b[37m\u001b[0m \u001b[1m7s\u001b[0m 144ms/step - acc: 0.5754 - f1_score: 0.5464 - loss: 1.0442\n",
            "\tTest acc: 0.8385, Test F1: 0.7850\n",
            "== Query no. 3/16, using Uncertainty_Sampling strategy\n",
            "\u001b[1m63/63\u001b[0m \u001b[32m━━━━━━━━━━━━━━━━━━━━\u001b[0m\u001b[37m\u001b[0m \u001b[1m4s\u001b[0m 68ms/step - acc: 0.6727 - f1_score: 0.6552 - loss: 0.9021\n",
            "\tTest acc: 0.8395, Test F1: 0.7786\n",
            "== Query no. 4/16, using Uncertainty_Sampling strategy\n",
            "\u001b[1m79/79\u001b[0m \u001b[32m━━━━━━━━━━━━━━━━━━━━\u001b[0m\u001b[37m\u001b[0m \u001b[1m11s\u001b[0m 139ms/step - acc: 0.6465 - f1_score: 0.6444 - loss: 0.8988\n",
            "\tTest acc: 0.8455, Test F1: 0.7866\n",
            "== Query no. 5/16, using Uncertainty_Sampling strategy\n",
            "\u001b[1m94/94\u001b[0m \u001b[32m━━━━━━━━━━━━━━━━━━━━\u001b[0m\u001b[37m\u001b[0m \u001b[1m7s\u001b[0m 76ms/step - acc: 0.7061 - f1_score: 0.6886 - loss: 0.7552\n",
            "\tTest acc: 0.8500, Test F1: 0.7938\n",
            "== Query no. 6/16, using Uncertainty_Sampling strategy\n",
            "\u001b[1m110/110\u001b[0m \u001b[32m━━━━━━━━━━━━━━━━━━━━\u001b[0m\u001b[37m\u001b[0m \u001b[1m8s\u001b[0m 71ms/step - acc: 0.7231 - f1_score: 0.7022 - loss: 0.6942\n",
            "\tTest acc: 0.8590, Test F1: 0.8117\n",
            "== Query no. 7/16, using Uncertainty_Sampling strategy\n",
            "\u001b[1m125/125\u001b[0m \u001b[32m━━━━━━━━━━━━━━━━━━━━\u001b[0m\u001b[37m\u001b[0m \u001b[1m12s\u001b[0m 96ms/step - acc: 0.7530 - f1_score: 0.7369 - loss: 0.6389\n",
            "\tTest acc: 0.8580, Test F1: 0.7999\n",
            "== Query no. 8/16, using Uncertainty_Sampling strategy\n",
            "\u001b[1m141/141\u001b[0m \u001b[32m━━━━━━━━━━━━━━━━━━━━\u001b[0m\u001b[37m\u001b[0m \u001b[1m19s\u001b[0m 132ms/step - acc: 0.7540 - f1_score: 0.7371 - loss: 0.6351\n",
            "\tTest acc: 0.8585, Test F1: 0.8112\n",
            "== Query no. 9/16, using Uncertainty_Sampling strategy\n",
            "\u001b[1m157/157\u001b[0m \u001b[32m━━━━━━━━━━━━━━━━━━━━\u001b[0m\u001b[37m\u001b[0m \u001b[1m19s\u001b[0m 123ms/step - acc: 0.7827 - f1_score: 0.7711 - loss: 0.5551\n",
            "\tTest acc: 0.8545, Test F1: 0.7976\n",
            "== Query no. 10/16, using Uncertainty_Sampling strategy\n",
            "\u001b[1m172/172\u001b[0m \u001b[32m━━━━━━━━━━━━━━━━━━━━\u001b[0m\u001b[37m\u001b[0m \u001b[1m20s\u001b[0m 118ms/step - acc: 0.7809 - f1_score: 0.7677 - loss: 0.5629\n",
            "\tTest acc: 0.8630, Test F1: 0.8226\n",
            "== Query no. 11/16, using Uncertainty_Sampling strategy\n",
            "\u001b[1m188/188\u001b[0m \u001b[32m━━━━━━━━━━━━━━━━━━━━\u001b[0m\u001b[37m\u001b[0m \u001b[1m21s\u001b[0m 110ms/step - acc: 0.8004 - f1_score: 0.7779 - loss: 0.5099\n",
            "\tTest acc: 0.8645, Test F1: 0.8157\n",
            "== Query no. 12/16, using Uncertainty_Sampling strategy\n",
            "\u001b[1m204/204\u001b[0m \u001b[32m━━━━━━━━━━━━━━━━━━━━\u001b[0m\u001b[37m\u001b[0m \u001b[1m27s\u001b[0m 131ms/step - acc: 0.8246 - f1_score: 0.8111 - loss: 0.4801\n",
            "\tTest acc: 0.8750, Test F1: 0.8235\n",
            "== Query no. 13/16, using Uncertainty_Sampling strategy\n",
            "\u001b[1m219/219\u001b[0m \u001b[32m━━━━━━━━━━━━━━━━━━━━\u001b[0m\u001b[37m\u001b[0m \u001b[1m23s\u001b[0m 103ms/step - acc: 0.8359 - f1_score: 0.8268 - loss: 0.4269\n",
            "\tTest acc: 0.8805, Test F1: 0.8366\n",
            "== Query no. 14/16, using Uncertainty_Sampling strategy\n",
            "\u001b[1m235/235\u001b[0m \u001b[32m━━━━━━━━━━━━━━━━━━━━\u001b[0m\u001b[37m\u001b[0m \u001b[1m33s\u001b[0m 139ms/step - acc: 0.8444 - f1_score: 0.8397 - loss: 0.4227\n",
            "\tTest acc: 0.8765, Test F1: 0.8315\n",
            "== Query no. 15/16, using Uncertainty_Sampling strategy\n",
            "\u001b[1m250/250\u001b[0m \u001b[32m━━━━━━━━━━━━━━━━━━━━\u001b[0m\u001b[37m\u001b[0m \u001b[1m35s\u001b[0m 140ms/step - acc: 0.8577 - f1_score: 0.8488 - loss: 0.3744\n",
            "\tTest acc: 0.8710, Test F1: 0.8227\n",
            "== Query no. 16/16, using Uncertainty_Sampling strategy\n",
            "\u001b[1m266/266\u001b[0m \u001b[32m━━━━━━━━━━━━━━━━━━━━\u001b[0m\u001b[37m\u001b[0m \u001b[1m28s\u001b[0m 104ms/step - acc: 0.8536 - f1_score: 0.8516 - loss: 0.3732\n",
            "\tTest acc: 0.8725, Test F1: 0.8275\n",
            "================================================================================\n",
            "\n",
            "== Query no. 1/16, using Margin_Sampling strategy\n",
            "\u001b[1m32/32\u001b[0m \u001b[32m━━━━━━━━━━━━━━━━━━━━\u001b[0m\u001b[37m\u001b[0m \u001b[1m5s\u001b[0m 145ms/step - acc: 0.7779 - f1_score: 0.7232 - loss: 0.5606\n",
            "\tTest acc: 0.8745, Test F1: 0.8066\n",
            "== Query no. 2/16, using Margin_Sampling strategy\n",
            "\u001b[1m47/47\u001b[0m \u001b[32m━━━━━━━━━━━━━━━━━━━━\u001b[0m\u001b[37m\u001b[0m \u001b[1m5s\u001b[0m 103ms/step - acc: 0.7897 - f1_score: 0.7821 - loss: 0.4372\n",
            "\tTest acc: 0.8655, Test F1: 0.8204\n",
            "== Query no. 3/16, using Margin_Sampling strategy\n",
            "\u001b[1m63/63\u001b[0m \u001b[32m━━━━━━━━━━━━━━━━━━━━\u001b[0m\u001b[37m\u001b[0m \u001b[1m9s\u001b[0m 140ms/step - acc: 0.8279 - f1_score: 0.8129 - loss: 0.4035\n",
            "\tTest acc: 0.8850, Test F1: 0.8367\n",
            "== Query no. 4/16, using Margin_Sampling strategy\n",
            "\u001b[1m79/79\u001b[0m \u001b[32m━━━━━━━━━━━━━━━━━━━━\u001b[0m\u001b[37m\u001b[0m \u001b[1m6s\u001b[0m 72ms/step - acc: 0.8053 - f1_score: 0.7952 - loss: 0.4784\n",
            "\tTest acc: 0.8810, Test F1: 0.8379\n",
            "== Query no. 5/16, using Margin_Sampling strategy\n",
            "\u001b[1m94/94\u001b[0m \u001b[32m━━━━━━━━━━━━━━━━━━━━\u001b[0m\u001b[37m\u001b[0m \u001b[1m13s\u001b[0m 137ms/step - acc: 0.8457 - f1_score: 0.8301 - loss: 0.3914\n",
            "\tTest acc: 0.8680, Test F1: 0.8087\n",
            "== Query no. 6/16, using Margin_Sampling strategy\n",
            "\u001b[1m110/110\u001b[0m \u001b[32m━━━━━━━━━━━━━━━━━━━━\u001b[0m\u001b[37m\u001b[0m \u001b[1m8s\u001b[0m 74ms/step - acc: 0.8503 - f1_score: 0.8416 - loss: 0.3811\n",
            "\tTest acc: 0.8750, Test F1: 0.8271\n",
            "== Query no. 7/16, using Margin_Sampling strategy\n",
            "\u001b[1m125/125\u001b[0m \u001b[32m━━━━━━━━━━━━━━━━━━━━\u001b[0m\u001b[37m\u001b[0m \u001b[1m11s\u001b[0m 92ms/step - acc: 0.8486 - f1_score: 0.8312 - loss: 0.3966\n",
            "\tTest acc: 0.8815, Test F1: 0.8316\n",
            "== Query no. 8/16, using Margin_Sampling strategy\n",
            "\u001b[1m141/141\u001b[0m \u001b[32m━━━━━━━━━━━━━━━━━━━━\u001b[0m\u001b[37m\u001b[0m \u001b[1m18s\u001b[0m 127ms/step - acc: 0.8605 - f1_score: 0.8485 - loss: 0.3631\n",
            "\tTest acc: 0.8695, Test F1: 0.8331\n",
            "== Query no. 9/16, using Margin_Sampling strategy\n",
            "\u001b[1m157/157\u001b[0m \u001b[32m━━━━━━━━━━━━━━━━━━━━\u001b[0m\u001b[37m\u001b[0m \u001b[1m22s\u001b[0m 143ms/step - acc: 0.8696 - f1_score: 0.8695 - loss: 0.3435\n",
            "\tTest acc: 0.8745, Test F1: 0.8282\n",
            "== Query no. 10/16, using Margin_Sampling strategy\n",
            "\u001b[1m172/172\u001b[0m \u001b[32m━━━━━━━━━━━━━━━━━━━━\u001b[0m\u001b[37m\u001b[0m \u001b[1m19s\u001b[0m 113ms/step - acc: 0.8706 - f1_score: 0.8550 - loss: 0.3287\n",
            "\tTest acc: 0.8815, Test F1: 0.8387\n",
            "== Query no. 11/16, using Margin_Sampling strategy\n",
            "\u001b[1m188/188\u001b[0m \u001b[32m━━━━━━━━━━━━━━━━━━━━\u001b[0m\u001b[37m\u001b[0m \u001b[1m23s\u001b[0m 122ms/step - acc: 0.8871 - f1_score: 0.8759 - loss: 0.2943\n",
            "\tTest acc: 0.8745, Test F1: 0.8244\n",
            "== Query no. 12/16, using Margin_Sampling strategy\n",
            "\u001b[1m204/204\u001b[0m \u001b[32m━━━━━━━━━━━━━━━━━━━━\u001b[0m\u001b[37m\u001b[0m \u001b[1m28s\u001b[0m 138ms/step - acc: 0.8907 - f1_score: 0.8780 - loss: 0.2812\n",
            "\tTest acc: 0.8800, Test F1: 0.8289\n",
            "== Query no. 13/16, using Margin_Sampling strategy\n",
            "\u001b[1m219/219\u001b[0m \u001b[32m━━━━━━━━━━━━━━━━━━━━\u001b[0m\u001b[37m\u001b[0m \u001b[1m24s\u001b[0m 110ms/step - acc: 0.8881 - f1_score: 0.8807 - loss: 0.3079\n",
            "\tTest acc: 0.8730, Test F1: 0.8189\n",
            "== Query no. 14/16, using Margin_Sampling strategy\n",
            "\u001b[1m235/235\u001b[0m \u001b[32m━━━━━━━━━━━━━━━━━━━━\u001b[0m\u001b[37m\u001b[0m \u001b[1m26s\u001b[0m 111ms/step - acc: 0.8915 - f1_score: 0.8823 - loss: 0.2839\n",
            "\tTest acc: 0.8730, Test F1: 0.8269\n",
            "== Query no. 15/16, using Margin_Sampling strategy\n",
            "\u001b[1m250/250\u001b[0m \u001b[32m━━━━━━━━━━━━━━━━━━━━\u001b[0m\u001b[37m\u001b[0m \u001b[1m27s\u001b[0m 109ms/step - acc: 0.9019 - f1_score: 0.8966 - loss: 0.2645\n",
            "\tTest acc: 0.8855, Test F1: 0.8434\n",
            "== Query no. 16/16, using Margin_Sampling strategy\n",
            "\u001b[1m266/266\u001b[0m \u001b[32m━━━━━━━━━━━━━━━━━━━━\u001b[0m\u001b[37m\u001b[0m \u001b[1m28s\u001b[0m 103ms/step - acc: 0.9050 - f1_score: 0.8984 - loss: 0.2558\n",
            "\tTest acc: 0.8820, Test F1: 0.8308\n",
            "================================================================================\n",
            "\n",
            "== Query no. 1/16, using Entropy_Sampling strategy\n",
            "\u001b[1m32/32\u001b[0m \u001b[32m━━━━━━━━━━━━━━━━━━━━\u001b[0m\u001b[37m\u001b[0m \u001b[1m3s\u001b[0m 102ms/step - acc: 0.8288 - f1_score: 0.7834 - loss: 0.4201\n",
            "\tTest acc: 0.8745, Test F1: 0.8159\n",
            "== Query no. 2/16, using Entropy_Sampling strategy\n",
            "\u001b[1m47/47\u001b[0m \u001b[32m━━━━━━━━━━━━━━━━━━━━\u001b[0m\u001b[37m\u001b[0m \u001b[1m6s\u001b[0m 128ms/step - acc: 0.8326 - f1_score: 0.8172 - loss: 0.4215\n",
            "\tTest acc: 0.8785, Test F1: 0.8353\n",
            "== Query no. 3/16, using Entropy_Sampling strategy\n",
            "\u001b[1m63/63\u001b[0m \u001b[32m━━━━━━━━━━━━━━━━━━━━\u001b[0m\u001b[37m\u001b[0m \u001b[1m9s\u001b[0m 142ms/step - acc: 0.8749 - f1_score: 0.8479 - loss: 0.3432\n",
            "\tTest acc: 0.8755, Test F1: 0.8284\n",
            "== Query no. 4/16, using Entropy_Sampling strategy\n",
            "\u001b[1m79/79\u001b[0m \u001b[32m━━━━━━━━━━━━━━━━━━━━\u001b[0m\u001b[37m\u001b[0m \u001b[1m8s\u001b[0m 102ms/step - acc: 0.8878 - f1_score: 0.8578 - loss: 0.3030\n",
            "\tTest acc: 0.8775, Test F1: 0.8188\n",
            "== Query no. 5/16, using Entropy_Sampling strategy\n",
            "\u001b[1m94/94\u001b[0m \u001b[32m━━━━━━━━━━━━━━━━━━━━\u001b[0m\u001b[37m\u001b[0m \u001b[1m9s\u001b[0m 95ms/step - acc: 0.8807 - f1_score: 0.8687 - loss: 0.3282\n",
            "\tTest acc: 0.8725, Test F1: 0.8315\n",
            "== Query no. 6/16, using Entropy_Sampling strategy\n",
            "\u001b[1m110/110\u001b[0m \u001b[32m━━━━━━━━━━━━━━━━━━━━\u001b[0m\u001b[37m\u001b[0m \u001b[1m16s\u001b[0m 145ms/step - acc: 0.8737 - f1_score: 0.8675 - loss: 0.3282\n",
            "\tTest acc: 0.8735, Test F1: 0.8240\n",
            "== Query no. 7/16, using Entropy_Sampling strategy\n",
            "\u001b[1m125/125\u001b[0m \u001b[32m━━━━━━━━━━━━━━━━━━━━\u001b[0m\u001b[37m\u001b[0m \u001b[1m17s\u001b[0m 137ms/step - acc: 0.8972 - f1_score: 0.8853 - loss: 0.2843\n",
            "\tTest acc: 0.8780, Test F1: 0.8289\n",
            "== Query no. 8/16, using Entropy_Sampling strategy\n",
            "\u001b[1m141/141\u001b[0m \u001b[32m━━━━━━━━━━━━━━━━━━━━\u001b[0m\u001b[37m\u001b[0m \u001b[1m18s\u001b[0m 129ms/step - acc: 0.8984 - f1_score: 0.8884 - loss: 0.2699\n",
            "\tTest acc: 0.8685, Test F1: 0.8213\n",
            "== Query no. 9/16, using Entropy_Sampling strategy\n",
            "\u001b[1m157/157\u001b[0m \u001b[32m━━━━━━━━━━━━━━━━━━━━\u001b[0m\u001b[37m\u001b[0m \u001b[1m21s\u001b[0m 134ms/step - acc: 0.9053 - f1_score: 0.8927 - loss: 0.2497\n",
            "\tTest acc: 0.8795, Test F1: 0.8351\n",
            "== Query no. 10/16, using Entropy_Sampling strategy\n",
            "\u001b[1m172/172\u001b[0m \u001b[32m━━━━━━━━━━━━━━━━━━━━\u001b[0m\u001b[37m\u001b[0m \u001b[1m16s\u001b[0m 92ms/step - acc: 0.9134 - f1_score: 0.9039 - loss: 0.2322\n",
            "\tTest acc: 0.8745, Test F1: 0.8224\n",
            "== Query no. 11/16, using Entropy_Sampling strategy\n",
            "\u001b[1m188/188\u001b[0m \u001b[32m━━━━━━━━━━━━━━━━━━━━\u001b[0m\u001b[37m\u001b[0m \u001b[1m25s\u001b[0m 135ms/step - acc: 0.9042 - f1_score: 0.9001 - loss: 0.2678\n",
            "\tTest acc: 0.8800, Test F1: 0.8309\n",
            "== Query no. 12/16, using Entropy_Sampling strategy\n",
            "\u001b[1m204/204\u001b[0m \u001b[32m━━━━━━━━━━━━━━━━━━━━\u001b[0m\u001b[37m\u001b[0m \u001b[1m29s\u001b[0m 142ms/step - acc: 0.9242 - f1_score: 0.9176 - loss: 0.2376\n",
            "\tTest acc: 0.8770, Test F1: 0.8349\n",
            "== Query no. 13/16, using Entropy_Sampling strategy\n",
            "\u001b[1m219/219\u001b[0m \u001b[32m━━━━━━━━━━━━━━━━━━━━\u001b[0m\u001b[37m\u001b[0m \u001b[1m24s\u001b[0m 111ms/step - acc: 0.9145 - f1_score: 0.9085 - loss: 0.2449\n",
            "\tTest acc: 0.8850, Test F1: 0.8432\n",
            "== Query no. 14/16, using Entropy_Sampling strategy\n",
            "\u001b[1m235/235\u001b[0m \u001b[32m━━━━━━━━━━━━━━━━━━━━\u001b[0m\u001b[37m\u001b[0m \u001b[1m29s\u001b[0m 122ms/step - acc: 0.9236 - f1_score: 0.9169 - loss: 0.2125\n",
            "\tTest acc: 0.8760, Test F1: 0.8212\n",
            "== Query no. 15/16, using Entropy_Sampling strategy\n",
            "\u001b[1m250/250\u001b[0m \u001b[32m━━━━━━━━━━━━━━━━━━━━\u001b[0m\u001b[37m\u001b[0m \u001b[1m35s\u001b[0m 139ms/step - acc: 0.9200 - f1_score: 0.9143 - loss: 0.2146\n",
            "\tTest acc: 0.8810, Test F1: 0.8305\n",
            "== Query no. 16/16, using Entropy_Sampling strategy\n",
            "\u001b[1m266/266\u001b[0m \u001b[32m━━━━━━━━━━━━━━━━━━━━\u001b[0m\u001b[37m\u001b[0m \u001b[1m28s\u001b[0m 105ms/step - acc: 0.9214 - f1_score: 0.9107 - loss: 0.2044\n",
            "\tTest acc: 0.8810, Test F1: 0.8257\n",
            "================================================================================\n",
            "\n"
          ]
        }
      ]
    },
    {
      "cell_type": "code",
      "source": [
        "# Set up the figure\n",
        "plt.figure(figsize=(18, 6))\n",
        "\n",
        "# Plot training and validation accuracy\n",
        "plt.subplot(1, 2, 1)\n",
        "for strat_nmae in history.keys():\n",
        "  plt.plot(range(1, len(history[strat_nmae]['acc_hist']) + 1), history[strat_nmae]['acc_hist'], marker='s', label=strat_nmae)\n",
        "plt.title('Accuracy')\n",
        "plt.xlabel('Epochs')\n",
        "plt.ylabel('Accuracy')\n",
        "plt.legend()\n",
        "\n",
        "# Plot training and validation f1_score\n",
        "plt.subplot(1, 2, 2)\n",
        "for strat_nmae in history.keys():\n",
        "  plt.plot(range(1, len(history[strat_nmae]['f1_hist']) + 1), history[strat_nmae]['f1_hist'], marker='s', label=strat_nmae)\n",
        "plt.title('F1_score')\n",
        "plt.xlabel('Epochs')\n",
        "plt.ylabel('F1_score')\n",
        "plt.legend()\n",
        "\n",
        "# Customize the style using Seaborn\n",
        "sns.set(style='whitegrid')  # You can choose other styles as well\n",
        "\n",
        "# Show the plots\n",
        "plt.grid(True)\n",
        "plt.tight_layout()\n",
        "plt.show()\n",
        "\n",
        "\n"
      ],
      "metadata": {
        "colab": {
          "base_uri": "https://localhost:8080/",
          "height": 457
        },
        "id": "8p405WRlugKf",
        "outputId": "88aa7f10-81ce-4f70-aee8-0f1a45bd3ae6"
      },
      "execution_count": 46,
      "outputs": [
        {
          "output_type": "display_data",
          "data": {
            "text/plain": [
              "<Figure size 1800x600 with 2 Axes>"
            ],
            "image/png": "[encoded data removed]"
          },
          "metadata": {}
        }
      ]
    },
    {
      "cell_type": "code",
      "source": [],
      "metadata": {
        "id": "G6vu4wf9zSGm"
      },
      "execution_count": 46,
      "outputs": []
    }
  ]
}